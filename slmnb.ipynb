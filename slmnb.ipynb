{
 "cells": [
  {
   "cell_type": "code",
   "execution_count": null,
   "metadata": {},
   "outputs": [
    {
     "name": "stderr",
     "output_type": "stream",
     "text": [
      "functions\\slmpy.py:39: wxPyDeprecationWarning: Call to deprecated item EmptyImage. Use :class:`Image` instead.\n",
      "  self.img = wx.EmptyImage(2,2)\n"
     ]
    }
   ],
   "source": [
    "from functions import slmpy\n",
    "import numpy as np\n",
    "import time\n",
    "from PIL import Image\n",
    "\n",
    "def displayVal(seconds, frequency, X, Y):\n",
    "    start = time.time()\n",
    "    elapsed = 0\n",
    "    x = np.empty([600L, 800L, 3L])\n",
    "    while elapsed < seconds:\n",
    "        elapsed = time.time() - start\n",
    "        #testIMG = np.round((2**8-1)*(0.5+0.5*(-1)*np.sin(2*np.pi*X/50))*elapsed).astype('uint8')\n",
    "        val = 127.5 * np.sin(2 * np.pi * frequency * elapsed) + 127.5\n",
    "        x.fill(val)\n",
    "        screen = np.array(x).astype('uint8')\n",
    "        #slm.updateArray(testIMG)\n",
    "        slm.updateArray(screen)\n",
    "\n",
    "def displayBars(seconds, frequency, resX, resY, relativeSpeed):\n",
    "    start = time.time()\n",
    "    elapsed = 0\n",
    "    screen = np.empty([resX, resY, 3L])\n",
    "    domain = np.linspace(0, resY, resY)\n",
    "    while elapsed < seconds:\n",
    "        elapsed = time.time() - start\n",
    "        x = 127.5 + 127.5 * np.sin(frequency*domain/(15) - relativeSpeed * elapsed)\n",
    "        # SOLID BARS, INSTEAD OF SINE PATTERN\n",
    "        #for i in range(x.shape[0]):\n",
    "        #    if x[i] < 127.5:\n",
    "        #        x[i] = 0\n",
    "        #    else: \n",
    "        #        x[i] = 255\n",
    "        for i in range(screen.shape[0]):\n",
    "            for j in range(screen.shape[2]):\n",
    "                screen[i,:,j] = x[:]\n",
    "        screen = np.array(screen).astype('uint8')\n",
    "        slm.updateArray(screen)\n",
    "        \n",
    "def showImage(image):\n",
    "    im = Image.open(image)\n",
    "    testIMG = np.array(im).astype('uint8')\n",
    "    slm.updateArray(testIMG)\n",
    "    time.sleep(600)\n",
    "    \n",
    "slm = slmpy.SLMdisplay(isImageLock = False)\n",
    "slm = slmpy.SLMdisplay(monitor = 1)\n",
    "resX, resY = slm.getSize()\n",
    "X,Y = np.meshgrid(np.linspace(0,resX,resX),np.linspace(0,resY,resY))\n",
    "#t = np.linspace(0,10,20000)\n",
    "#t = 2 * np.pi * 20 * t\n",
    "#display = np.sin(t)\n",
    "\n",
    "## DISPLAY OPTIONS\n",
    "#displayVal(240, 1, X, Y)\n",
    "displayBars(500, 1, resX, resY, relativeSpeed=5)\n",
    "#showImage('letters.jpg')\n",
    "\n",
    "#print len(testIMG)\n",
    "#print len(testIMG[0])\n",
    "#print testIMG.shape\n",
    "#print testIMG\n",
    "#print \"gotcha\"\n",
    "slm.close()\n"
   ]
  },
  {
   "cell_type": "code",
   "execution_count": null,
   "metadata": {
    "collapsed": true
   },
   "outputs": [],
   "source": []
  }
 ],
 "metadata": {
  "kernelspec": {
   "display_name": "Python 2",
   "language": "python",
   "name": "python2"
  },
  "language_info": {
   "codemirror_mode": {
    "name": "ipython",
    "version": 2
   },
   "file_extension": ".py",
   "mimetype": "text/x-python",
   "name": "python",
   "nbconvert_exporter": "python",
   "pygments_lexer": "ipython2",
   "version": "2.7.14"
  }
 },
 "nbformat": 4,
 "nbformat_minor": 2
}
